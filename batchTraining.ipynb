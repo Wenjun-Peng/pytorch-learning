{
 "cells": [
  {
   "cell_type": "code",
   "execution_count": 1,
   "metadata": {},
   "outputs": [],
   "source": [
    "import torch\n",
    "import torch.utils.data as Data\n",
    "import torch.nn.functional as F\n",
    "\n",
    "BATCH_SIZE = 20\n",
    "\n",
    "# make fake data\n",
    "n_data = torch.ones(100, 2)\n",
    "x0 = torch.normal(2*n_data, 1)      # class0 x data (tensor), shape=(100, 2)\n",
    "y0 = torch.zeros(100)               # class0 y data (tensor), shape=(100, 1)\n",
    "x1 = torch.normal(-2*n_data, 1)     # class1 x data (tensor), shape=(100, 2)\n",
    "y1 = torch.ones(100)                # class1 y data (tensor), shape=(100, 1)\n",
    "x = torch.cat((x0, x1), 0).type(torch.FloatTensor)  # shape (200, 2) FloatTensor = 32-bit floating\n",
    "y = torch.cat((y0, y1), ).type(torch.LongTensor)    # shape (200,) LongTensor = 64-bit integer\n",
    "\n",
    "torch_dataset = Data.TensorDataset(x, y)\n",
    "\n",
    "loader = Data.DataLoader(\n",
    "    dataset=torch_dataset,      # torch TensorDataset format\n",
    "    batch_size=BATCH_SIZE,      # mini batch size\n",
    "    shuffle=True,               # random shuffle for training\n",
    "    num_workers=2,              # subprocesses for loading data\n",
    ")"
   ]
  },
  {
   "cell_type": "code",
   "execution_count": 2,
   "metadata": {},
   "outputs": [],
   "source": [
    "class Net(torch.nn.Module):\n",
    "    def __init__(self, n_feature, n_hidden, n_output):\n",
    "        super(Net, self).__init__()\n",
    "        self.hidden = torch.nn.Linear(n_feature, n_hidden)\n",
    "        self.out = torch.nn.Linear(n_hidden, n_output)\n",
    "    \n",
    "    def forward(self, x):\n",
    "        x = self.hidden(x)\n",
    "        F.relu(x)\n",
    "        x = self.out(x)\n",
    "        \n",
    "        return x"
   ]
  },
  {
   "cell_type": "code",
   "execution_count": 3,
   "metadata": {},
   "outputs": [],
   "source": [
    "net = Net(n_feature=2, n_hidden=10, n_output=2)\n",
    "opt = torch.optim.SGD(net.parameters(), lr=0.02)\n",
    "loss_func = torch.nn.CrossEntropyLoss()"
   ]
  },
  {
   "cell_type": "code",
   "execution_count": 4,
   "metadata": {},
   "outputs": [
    {
     "name": "stdout",
     "output_type": "stream",
     "text": [
      "Epoch:  0 | Step:  0 | accuracy:  0.35\n",
      "Epoch:  0 | Step:  1 | accuracy:  0.95\n",
      "Epoch:  0 | Step:  2 | accuracy:  1.0\n",
      "Epoch:  0 | Step:  3 | accuracy:  1.0\n",
      "Epoch:  0 | Step:  4 | accuracy:  1.0\n",
      "Epoch:  0 | Step:  5 | accuracy:  1.0\n",
      "Epoch:  0 | Step:  6 | accuracy:  1.0\n",
      "Epoch:  0 | Step:  7 | accuracy:  1.0\n",
      "Epoch:  0 | Step:  8 | accuracy:  1.0\n",
      "Epoch:  0 | Step:  9 | accuracy:  1.0\n",
      "Epoch:  1 | Step:  0 | accuracy:  1.0\n",
      "Epoch:  1 | Step:  1 | accuracy:  1.0\n",
      "Epoch:  1 | Step:  2 | accuracy:  1.0\n",
      "Epoch:  1 | Step:  3 | accuracy:  1.0\n",
      "Epoch:  1 | Step:  4 | accuracy:  1.0\n",
      "Epoch:  1 | Step:  5 | accuracy:  1.0\n",
      "Epoch:  1 | Step:  6 | accuracy:  1.0\n",
      "Epoch:  1 | Step:  7 | accuracy:  1.0\n",
      "Epoch:  1 | Step:  8 | accuracy:  1.0\n",
      "Epoch:  1 | Step:  9 | accuracy:  1.0\n",
      "Epoch:  2 | Step:  0 | accuracy:  1.0\n",
      "Epoch:  2 | Step:  1 | accuracy:  1.0\n",
      "Epoch:  2 | Step:  2 | accuracy:  1.0\n",
      "Epoch:  2 | Step:  3 | accuracy:  1.0\n",
      "Epoch:  2 | Step:  4 | accuracy:  1.0\n",
      "Epoch:  2 | Step:  5 | accuracy:  1.0\n",
      "Epoch:  2 | Step:  6 | accuracy:  1.0\n",
      "Epoch:  2 | Step:  7 | accuracy:  1.0\n",
      "Epoch:  2 | Step:  8 | accuracy:  1.0\n",
      "Epoch:  2 | Step:  9 | accuracy:  1.0\n",
      "Epoch:  3 | Step:  0 | accuracy:  1.0\n",
      "Epoch:  3 | Step:  1 | accuracy:  1.0\n",
      "Epoch:  3 | Step:  2 | accuracy:  1.0\n",
      "Epoch:  3 | Step:  3 | accuracy:  1.0\n",
      "Epoch:  3 | Step:  4 | accuracy:  1.0\n",
      "Epoch:  3 | Step:  5 | accuracy:  1.0\n",
      "Epoch:  3 | Step:  6 | accuracy:  1.0\n",
      "Epoch:  3 | Step:  7 | accuracy:  1.0\n",
      "Epoch:  3 | Step:  8 | accuracy:  1.0\n",
      "Epoch:  3 | Step:  9 | accuracy:  1.0\n",
      "Epoch:  4 | Step:  0 | accuracy:  1.0\n",
      "Epoch:  4 | Step:  1 | accuracy:  1.0\n",
      "Epoch:  4 | Step:  2 | accuracy:  1.0\n",
      "Epoch:  4 | Step:  3 | accuracy:  1.0\n",
      "Epoch:  4 | Step:  4 | accuracy:  1.0\n",
      "Epoch:  4 | Step:  5 | accuracy:  1.0\n",
      "Epoch:  4 | Step:  6 | accuracy:  1.0\n",
      "Epoch:  4 | Step:  7 | accuracy:  1.0\n",
      "Epoch:  4 | Step:  8 | accuracy:  1.0\n",
      "Epoch:  4 | Step:  9 | accuracy:  1.0\n"
     ]
    }
   ],
   "source": [
    "for epoch in range(5):   # train entire dataset 3 times\n",
    "    for step, (batch_x, batch_y) in enumerate(loader):  # for each training step\n",
    "        # train your data...\n",
    "        out = net(batch_x)\n",
    "        loss = loss_func(out,batch_y)\n",
    "        prediction = torch.argmax(out,1)\n",
    "#         print(out)\n",
    "        \n",
    "        opt.zero_grad()\n",
    "        loss.backward()\n",
    "        opt.step()\n",
    "        \n",
    "        pred_y = prediction.data.numpy()\n",
    "        target_y = batch_y.data.numpy()\n",
    "        accuracy = float((pred_y == target_y).astype(int).sum()) / float(target_y.size)\n",
    "        print('Epoch: ', epoch, '| Step: ', step, '| accuracy: ',\n",
    "                  accuracy)"
   ]
  },
  {
   "cell_type": "code",
   "execution_count": null,
   "metadata": {},
   "outputs": [],
   "source": []
  }
 ],
 "metadata": {
  "kernelspec": {
   "display_name": "Python 3",
   "language": "python",
   "name": "python3"
  },
  "language_info": {
   "codemirror_mode": {
    "name": "ipython",
    "version": 3
   },
   "file_extension": ".py",
   "mimetype": "text/x-python",
   "name": "python",
   "nbconvert_exporter": "python",
   "pygments_lexer": "ipython3",
   "version": "3.7.4"
  }
 },
 "nbformat": 4,
 "nbformat_minor": 4
}
